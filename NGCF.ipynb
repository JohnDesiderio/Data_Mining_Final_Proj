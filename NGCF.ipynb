{
 "cells": [
  {
   "cell_type": "markdown",
   "metadata": {},
   "source": [
    "# Loads Data"
   ]
  },
  {
   "cell_type": "code",
   "execution_count": 204,
   "metadata": {},
   "outputs": [],
   "source": [
    "# Based off of Neural Graph Collaborative Filtering\n",
    " # Xiang Wang, Xiangnan He, Meng Wang, Fuli Feng, and Tat-Seng Chua. 2019.\n",
    " # Neural Graph Collaborative Filtering. In Proceedings of the 42nd International\n",
    " # ACM SIGIR Conference on Research and Development in Information Retrieval\n",
    " # (SIGIR ’19), July 21–25, 2019, Paris, France. ACM, New York, NY, USA,\n",
    " # 10 pages. https://doi.org/10.1145/3331184.3331267\n",
    "\n",
    "import torch\n",
    "import random\n",
    "import numpy as np\n",
    "import pandas as pd\n",
    "import torch.nn.functional as F\n",
    "from torch.nn import init, LeakyReLU, Linear, Module, ModuleList, Parameter\n",
    "\n",
    "batch_size = 1024 # Set as such because it says this is the optimal number in the above paper\n",
    "\n",
    "# Gets values from csv\n",
    "input = pd.read_csv(\"ratings_small.csv\", usecols=[\"userId\", \"movieId\", \"rating\"])\n"
   ]
  },
  {
   "cell_type": "code",
   "execution_count": 205,
   "metadata": {},
   "outputs": [],
   "source": [
    "# Splits input into training and testing sets\n",
    "userSet = []\n",
    "spot = 1\n",
    "activeItems = []\n",
    "for a, b, c in input.values:\n",
    "    if spot == a:\n",
    "        activeItems.append(b)\n",
    "    else:\n",
    "        userSet.append(activeItems)\n",
    "        activeItems = []\n",
    "        spot += 1\n",
    "        activeItems.append(b)\n",
    "userSet.append(activeItems)\n",
    "\n",
    "training = []\n",
    "testing = []\n",
    "for i in range(len(userSet)):\n",
    "    length = int(len(userSet[i])*0.7)\n",
    "    for a in userSet[i][:length]:\n",
    "        training.append([i+1, a])\n",
    "    for a in userSet[i][length:]:\n",
    "        testing.append([i+1, a])\n"
   ]
  },
  {
   "cell_type": "code",
   "execution_count": 206,
   "metadata": {},
   "outputs": [],
   "source": [
    "# Gets lists of unique values\n",
    "userIDList = input['userId'].unique()\n",
    "movieIDList = input['movieId'].unique()"
   ]
  },
  {
   "cell_type": "code",
   "execution_count": 207,
   "metadata": {},
   "outputs": [],
   "source": [
    "def get_user_item_matrix(matrix):\n",
    "    output = pd.DataFrame(input, columns=movieIDList, index=userIDList)\n",
    "    for a, b in matrix:\n",
    "        output.at[a, b] = 1\n",
    "    output.fillna(value = 0, inplace = True)\n",
    "    output = torch.from_numpy(output.values)\n",
    "    return output\n",
    "\n",
    "# Builds the user item interaction matrix (training)\n",
    "userItemIteractionMatrix = get_user_item_matrix(training)\n",
    "# Builds the user item interaction matrix (testing)\n",
    "testingUIMatrix = get_user_item_matrix(testing)"
   ]
  },
  {
   "cell_type": "code",
   "execution_count": 208,
   "metadata": {},
   "outputs": [],
   "source": [
    "# Builds the positive list\n",
    "def build_positive_list(matrix):\n",
    "    positiveList = []\n",
    "    spot = 1\n",
    "    temp = []\n",
    "    for a, b in matrix:\n",
    "        b = int(b)\n",
    "        if a == spot:\n",
    "            temp.append(b)\n",
    "        else:\n",
    "            spot += 1\n",
    "            positiveList.append(temp)\n",
    "            temp = [b]\n",
    "    positiveList.append(temp)\n",
    "    return positiveList\n",
    "\n",
    "positiveList = build_positive_list(training)"
   ]
  },
  {
   "cell_type": "markdown",
   "metadata": {},
   "source": [
    "# Creates Adjacency Matrix"
   ]
  },
  {
   "cell_type": "code",
   "execution_count": 209,
   "metadata": {},
   "outputs": [
    {
     "name": "stderr",
     "output_type": "stream",
     "text": [
      "C:\\Users\\jgill\\AppData\\Local\\Temp\\ipykernel_15280\\2393360537.py:12: RuntimeWarning: divide by zero encountered in power\n",
      "  d = np.power(rowsum, -1).flatten()\n"
     ]
    }
   ],
   "source": [
    "numberOfUsers = len(userIDList)\n",
    "numberOfItems = len(movieIDList)\n",
    "\n",
    "AdjanceyMatrix = np.zeros((numberOfUsers + numberOfItems, numberOfItems + numberOfUsers))\n",
    "AdjanceyMatrix[:numberOfUsers, numberOfUsers:] = userItemIteractionMatrix.tolist()\n",
    "AdjanceyMatrix[numberOfUsers:, :numberOfUsers] = userItemIteractionMatrix.T.tolist()\n",
    "\n",
    "rowsum = np.array(AdjanceyMatrix.sum(1))\n",
    "\n",
    "# Tecnique taken from the paper's implementaion instead of the paper itself\n",
    " # https://github.com/xiangwang1223/neural_graph_collaborative_filtering\n",
    "d = np.power(rowsum, -1).flatten()\n",
    "d[np.isinf(d)] = 0.\n",
    "d_mat = np.zeros((len(d), len(d)))\n",
    "for i in range(len(d)):\n",
    "    d_mat[i][i] = d[i]\n",
    "NormalizedAdjacencyMatrix = d_mat.dot(AdjanceyMatrix)\n",
    "stuff = torch.from_numpy(AdjanceyMatrix).to_sparse()\n",
    "AdjanceyMatrix = NormalizedAdjacencyMatrix + np.eye(NormalizedAdjacencyMatrix.shape[0])\n",
    "sparceAdjacenyMatrix = torch.from_numpy(AdjanceyMatrix.astype(np.float32)).to_sparse()"
   ]
  },
  {
   "cell_type": "code",
   "execution_count": 210,
   "metadata": {},
   "outputs": [],
   "source": [
    "\n",
    "def positive(u):\n",
    "    movie = random.randint(0, len(positiveList[u-1])-1)\n",
    "    for i in range(len(movieIDList)):\n",
    "        if movieIDList[i] == positiveList[u-1][movie]:\n",
    "            return i\n",
    "\n",
    "def negative(u):\n",
    "    while True:\n",
    "        movie = random.randint(0, numberOfItems-1)\n",
    "        movie = movieIDList[movie]\n",
    "        if movie not in positiveList[u-1]:\n",
    "            for i in range(len(movieIDList)):\n",
    "                if movieIDList[i] == movie:\n",
    "                    return i\n",
    "\n",
    "def get_a_sample():\n",
    "    selectedUsers = np.random.choice(userIDList, size=batch_size)\n",
    "    pos_sample, neg_sample = [], []\n",
    "    for u in selectedUsers:\n",
    "        pos_sample.append(positive(u))\n",
    "        neg_sample.append(negative(u))\n",
    "    return selectedUsers, np.asarray(pos_sample), np.asarray(neg_sample)\n"
   ]
  },
  {
   "cell_type": "markdown",
   "metadata": {},
   "source": [
    "# The Model"
   ]
  },
  {
   "cell_type": "code",
   "execution_count": 211,
   "metadata": {},
   "outputs": [],
   "source": [
    "numberOfLayers = 3\n",
    "\n",
    "transfomationSize = 64\n",
    "\n",
    "class NGCF(Module):\n",
    "  def __init__(self):\n",
    "    super().__init__()\n",
    "\n",
    "    # This portion is adapted from https://github.com/SytzeAndr/NGCF_RP32/blob/hand-in/NGCF.ipynb since\n",
    "     # I still don't understand how Parameter works in torch\n",
    "    self.initialUserEmbeddings = Parameter(self.createRandomEmbeddings())\n",
    "    self.initialItemEmbeddings = Parameter(self.createRandomEmbeddings())\n",
    "    self.concatenatedUserEmbeddings = Parameter(self.createRandomEmbeddings())\n",
    "    self.concatenatedItemEmbeddings = Parameter(self.createRandomEmbeddings())\n",
    "    for name, parameter in self.named_parameters():\n",
    "      if ('bias' not in name):\n",
    "        init.xavier_uniform_(parameter)\n",
    "    \n",
    "    self.W1 = self.createWeightMatrix()\n",
    "    self.W2 = self.createWeightMatrix()\n",
    "\n",
    "  def createWeightMatrix(self):\n",
    "    output = []\n",
    "      output.append(Linear(transfomationSize, transfomationSize))\n",
    "    return ModuleList(output)\n",
    "  \n",
    "  def createRandomEmbeddings():\n",
    "    return torch.rand(numberOfUsers, transfomationSize)\n",
    "\n",
    "  def createEmptyEmbeddings():\n",
    "    return torch.zeros((numberOfUsers, transfomationSize * (numberOfLayers + 1)))\n",
    "\n",
    "  def forward(self, users, positives, negatives):\n",
    "    # Combines the user and item embeddings into one array\n",
    "    initialEmbeddings = torch.cat((self.initialUserEmbeddings, self.initialItemEmbeddings))\n",
    "    outputEmbeddings = [initialEmbeddings]\n",
    "\n",
    "    # Does the messaging\n",
    "    for l in range(numberOfLayers):\n",
    "      lE = torch.sparse.mm(sparceAdjacenyMatrix, initialEmbeddings)\n",
    "      initialEmbeddings = LeakyReLU()(self.W1[l](lE) + self.W2[l](initialEmbeddings.mul(lE)))\n",
    "      normalizedEmbeddings = F.normalize(initialEmbeddings, p=2, dim=1)\n",
    "      # Adds them to the list\n",
    "      outputEmbeddings.append(normalizedEmbeddings)\n",
    "\n",
    "    outputEmbeddings = torch.cat(outputEmbeddings, 1)\n",
    "    \n",
    "    userEmbeds, itemEmbeds = outputEmbeddings.split((numberOfUsers, numberOfItems), 0)\n",
    "    self.concatenatedUserEmbeddings = Parameter(userEmbeds)\n",
    "    self.concatenatedItemEmbeddings = Parameter(itemEmbeds)\n",
    "\n",
    "    return self.getLoss(userEmbeds[users-1], itemEmbeds[positives], itemEmbeds[negatives])\n",
    "\n",
    "  def getLoss(self, u, i, j):\n",
    "    return -(torch.log(torch.sigmoid(torch.mul(u, i).sum(dim=1) - torch.mul(u, j).sum(dim=1)))).mean()"
   ]
  },
  {
   "cell_type": "markdown",
   "metadata": {},
   "source": [
    "# Running"
   ]
  },
  {
   "cell_type": "code",
   "execution_count": 213,
   "metadata": {},
   "outputs": [
    {
     "name": "stdout",
     "output_type": "stream",
     "text": [
      "Epoch 1\n",
      " Loss = 3.6117654144763947\n",
      "Epoch 2\n",
      " Loss = 2.2050976306200027\n",
      "Epoch 3\n",
      " Loss = 1.8743716776371002\n",
      "Epoch 4\n",
      " Loss = 1.6849270910024643\n",
      "Epoch 5\n",
      " Loss = 1.5634060502052307\n",
      "Epoch 6\n",
      " Loss = 1.5372567921876907\n",
      "Epoch 7\n",
      " Loss = 1.406380757689476\n",
      "Epoch 8\n",
      " Loss = 1.3347729742527008\n",
      "Epoch 9\n",
      " Loss = 1.2633979618549347\n",
      "Epoch 10\n",
      " Loss = 1.1762020513415337\n"
     ]
    }
   ],
   "source": [
    "model = NGCF()\n",
    "optimizer = torch.optim.Adam(model.parameters(), lr=0.005)\n",
    "epochs = 10\n",
    "\n",
    "model.train()\n",
    "batchs = numberOfItems // batch_size + 1\n",
    "\n",
    "def train(model, t):\n",
    "  print('Epoch ' + str(t+1))\n",
    "  total_loss = 0\n",
    "  for _i in range(batchs):\n",
    "    user, pos, neg = get_a_sample()\n",
    "    optimizer.zero_grad()\n",
    "    loss = model(torch.from_numpy(user).long(), torch.LongTensor(pos), torch.LongTensor(neg))\n",
    "    loss.backward()\n",
    "    optimizer.step()\n",
    "    total_loss += loss.item()\n",
    "  print(' Loss = ' + str(total_loss))\n",
    "\n",
    "for t in range(epochs):\n",
    "  train(model, t)\n",
    "  model.train()\n",
    "  model.eval()"
   ]
  },
  {
   "cell_type": "markdown",
   "metadata": {},
   "source": [
    "# Evaluating the model"
   ]
  },
  {
   "cell_type": "code",
   "execution_count": 214,
   "metadata": {},
   "source": [
    "# Gets embedings from model\n",
    "user_embeddings = model.concatenatedUserEmbeddings.detach()\n",
    "item_embeddings = model.concatenatedItemEmbeddings.detach()\n",
    "\n",
    "# Calculates precision and recall\n",
    "recall_parts, ndcg_parts = [], []\n",
    "\n",
    "non_train_items = (1 - user_embeddings).float()\n",
    "predictions = torch.mm(user_embeddings, item_embeddings.t())\n",
    "predictions = predictions * (1-userItemIteractionMatrix)\n",
    "\n",
    "output = np.zeros((numberOfUsers, numberOfItems))\n",
    "reversedMatrix = 1-userItemIteractionMatrix\n",
    "top10 = torch.topk(predictions * reversedMatrix, k=10).indices\n",
    "for u in range(len(top10)):\n",
    "  for i in top10[u]:\n",
    "    output[u][i] = 1\n",
    "\n",
    "print(\"Evaluating...\")\n",
    "\n",
    "truePositives = []\n",
    "falsePositive = []\n",
    "falseNegatives = []\n",
    "for user in range(len(output)):\n",
    "  TPtemp = 0\n",
    "  FPtemp = 0\n",
    "  FNtemp = 0\n",
    "  for i in range(len(output[user])):\n",
    "    if output[user][i] == 1 and testingUIMatrix[user][i] == 1:\n",
    "      TPtemp += 1\n",
    "    elif testingUIMatrix[user][i] == 1 and output[user][i] == 0: #false negative\n",
    "      FNtemp += 1\n",
    "    elif testingUIMatrix[user][i] == 1 and output[user][i] == 0: #false positive\n",
    "      FPtemp += 1\n",
    "  truePositives.append(TPtemp)\n",
    "  falsePositive.append(FPtemp)\n",
    "  falseNegatives.append(FNtemp)\n",
    "\n",
    "precision = 0\n",
    "recall = 0\n",
    "TPs = 0\n",
    "for i in range(len(truePositives)):\n",
    "  if (truePositives[i] + falsePositive[i]) != 0:\n",
    "    precision += truePositives[i]/(truePositives[i] + falsePositive[i])\n",
    "  if (truePositives[i] + falseNegatives[i]) != 0:\n",
    "    recall += truePositives[i]/(truePositives[i] + falseNegatives[i])\n",
    "  TPs += truePositives[i]\n",
    "  \n",
    "precision = precision/len(truePositives)\n",
    "recall = recall/len(truePositives)\n",
    "falseNegatives = TPs/len(falseNegatives)\n",
    "\n",
    "print('Precision:\\t' + str(precision))\n",
    "print('Recall:\\t\\t' + str(recall))"
   ]
  }
 ],
 "metadata": {
  "interpreter": {
   "hash": "3af5524c48f43e24cd2e6132989d065113de7323b7f93513999bc401a001bbaf"
  },
  "kernelspec": {
   "display_name": "Python 3.9.6 64-bit",
   "language": "python",
   "name": "python3"
  },
  "language_info": {
   "codemirror_mode": {
    "name": "ipython",
    "version": 3
   },
   "file_extension": ".py",
   "mimetype": "text/x-python",
   "name": "python",
   "nbconvert_exporter": "python",
   "pygments_lexer": "ipython3",
   "version": "3.9.6"
  },
  "orig_nbformat": 4
 },
 "nbformat": 4,
 "nbformat_minor": 2
}
