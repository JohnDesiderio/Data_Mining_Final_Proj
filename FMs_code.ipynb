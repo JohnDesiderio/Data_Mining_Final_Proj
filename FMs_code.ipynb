{
  "nbformat": 4,
  "nbformat_minor": 0,
  "metadata": {
    "colab": {
      "name": "FMs_code.ipynb",
      "provenance": [],
      "collapsed_sections": []
    },
    "kernelspec": {
      "name": "python3",
      "display_name": "Python 3"
    },
    "language_info": {
      "name": "python"
    }
  },
  "cells": [
    {
      "cell_type": "markdown",
      "source": [
        "# Factorization Machines: \n",
        "\n",
        "## Alleviating Choice Paralysis for Cinephiles \n",
        "### by Jordy Klustner \n"
      ],
      "metadata": {
        "id": "EvGM9UliyCcY"
      }
    },
    {
      "cell_type": "code",
      "source": [
        "!pip install rankfm"
      ],
      "metadata": {
        "colab": {
          "base_uri": "https://localhost:8080/"
        },
        "id": "ecaGBC_By7d_",
        "outputId": "90bb273f-3330-4652-f723-ac09928fd634"
      },
      "execution_count": null,
      "outputs": [
        {
          "output_type": "stream",
          "name": "stdout",
          "text": [
            "Collecting rankfm\n",
            "  Downloading rankfm-0.2.5.tar.gz (145 kB)\n",
            "\u001b[K     |████████████████████████████████| 145 kB 5.1 MB/s \n",
            "\u001b[?25hRequirement already satisfied: numpy>=1.15 in /usr/local/lib/python3.7/dist-packages (from rankfm) (1.21.6)\n",
            "Requirement already satisfied: pandas>=0.24 in /usr/local/lib/python3.7/dist-packages (from rankfm) (1.3.5)\n",
            "Requirement already satisfied: python-dateutil>=2.7.3 in /usr/local/lib/python3.7/dist-packages (from pandas>=0.24->rankfm) (2.8.2)\n",
            "Requirement already satisfied: pytz>=2017.3 in /usr/local/lib/python3.7/dist-packages (from pandas>=0.24->rankfm) (2022.1)\n",
            "Requirement already satisfied: six>=1.5 in /usr/local/lib/python3.7/dist-packages (from python-dateutil>=2.7.3->pandas>=0.24->rankfm) (1.15.0)\n",
            "Building wheels for collected packages: rankfm\n",
            "  Building wheel for rankfm (setup.py) ... \u001b[?25l\u001b[?25hdone\n",
            "  Created wheel for rankfm: filename=rankfm-0.2.5-cp37-cp37m-linux_x86_64.whl size=386145 sha256=ed0f6e8a7c4b1894fae326dcc8ef49fbddf4111f4cf1b8abf7018d96084da55d\n",
            "  Stored in directory: /root/.cache/pip/wheels/99/5f/9d/caa74d8a3cad3dcc3ed9e02d27e7bc18d0ccd1dd5ed1fcdb99\n",
            "Successfully built rankfm\n",
            "Installing collected packages: rankfm\n",
            "Successfully installed rankfm-0.2.5\n"
          ]
        }
      ]
    },
    {
      "cell_type": "markdown",
      "source": [
        "### Import Required Libraries and Read Ratings Dataset"
      ],
      "metadata": {
        "id": "UYBAOwqVCnUg"
      }
    },
    {
      "cell_type": "code",
      "execution_count": null,
      "metadata": {
        "id": "ajjfBeRZx38h"
      },
      "outputs": [],
      "source": [
        "import pandas as pd\n",
        "import numpy as np\n",
        "from rankfm.rankfm import RankFM \n",
        "import warnings\n",
        "warnings.filterwarnings('ignore')\n",
        "\n",
        "ratings = pd.read_csv('ratings.csv')"
      ]
    },
    {
      "cell_type": "code",
      "source": [
        "ratings['rating'] = ratings['rating']/5"
      ],
      "metadata": {
        "id": "no08pcB1-Kvz"
      },
      "execution_count": null,
      "outputs": []
    },
    {
      "cell_type": "code",
      "source": [
        "ratings = ratings.drop(columns= 'timestamp')\n",
        "ratings['random'] = np.random.random(len(ratings['rating']))"
      ],
      "metadata": {
        "id": "d299EitfJhNv"
      },
      "execution_count": null,
      "outputs": []
    },
    {
      "cell_type": "markdown",
      "source": [
        "### Create Data For Roommate's Movie Preferences"
      ],
      "metadata": {
        "id": "1rpb183dlZV1"
      }
    },
    {
      "cell_type": "code",
      "source": [
        "c = np.array([[42069, 310131, .8],\n",
        "              [42069, 16392, .6],\n",
        "              [42069, 15371, 1],\n",
        "              [42069, 146233, .6],\n",
        "              [42069, 421, 1],\n",
        "              [42069, 97367, 1],\n",
        "              [42069, 489, .8],\n",
        "              [42069, 278, .8],\n",
        "              [42069, 9647, .6],\n",
        "              [42069, 279690, .6],\n",
        "              [42069, 55931, .6],\n",
        "              [42069, 24128, .8],\n",
        "              [42069, 84892, .4],\n",
        "              [42069, 25750, .2],\n",
        "              [42069, 149, .8],\n",
        "              [42069, 2291, .4],\n",
        "              [42069, 339403, .6],\n",
        "              [42069, 861, .6],\n",
        "              [42069, 9741, .4],\n",
        "              [42069, 19908, .2],\n",
        "              [42069, 153, .8]])\n",
        "chris = pd.DataFrame(c, columns= [\"userId\", \"movieId\", \"rating\"])\n",
        "chris[\"random\"] = np.random.random(len(chris['rating']))\n",
        "chris"
      ],
      "metadata": {
        "colab": {
          "base_uri": "https://localhost:8080/",
          "height": 708
        },
        "id": "5GfAuSqNO7eD",
        "outputId": "195b8170-513b-49c9-dc87-3388602d3be6"
      },
      "execution_count": null,
      "outputs": [
        {
          "output_type": "execute_result",
          "data": {
            "text/plain": [
              "     userId   movieId  rating    random\n",
              "0   42069.0  310131.0     0.8  0.117112\n",
              "1   42069.0   16392.0     0.6  0.857393\n",
              "2   42069.0   15371.0     1.0  0.796890\n",
              "3   42069.0  146233.0     0.6  0.575762\n",
              "4   42069.0     421.0     1.0  0.774184\n",
              "5   42069.0   97367.0     1.0  0.076446\n",
              "6   42069.0     489.0     0.8  0.192059\n",
              "7   42069.0     278.0     0.8  0.917216\n",
              "8   42069.0    9647.0     0.6  0.482191\n",
              "9   42069.0  279690.0     0.6  0.071241\n",
              "10  42069.0   55931.0     0.6  0.017518\n",
              "11  42069.0   24128.0     0.8  0.333555\n",
              "12  42069.0   84892.0     0.4  0.035561\n",
              "13  42069.0   25750.0     0.2  0.225839\n",
              "14  42069.0     149.0     0.8  0.018801\n",
              "15  42069.0    2291.0     0.4  0.302059\n",
              "16  42069.0  339403.0     0.6  0.131907\n",
              "17  42069.0     861.0     0.6  0.499339\n",
              "18  42069.0    9741.0     0.4  0.737388\n",
              "19  42069.0   19908.0     0.2  0.253213\n",
              "20  42069.0     153.0     0.8  0.923698"
            ],
            "text/html": [
              "\n",
              "  <div id=\"df-06b5b508-00e3-42a7-8926-ed01953a9579\">\n",
              "    <div class=\"colab-df-container\">\n",
              "      <div>\n",
              "<style scoped>\n",
              "    .dataframe tbody tr th:only-of-type {\n",
              "        vertical-align: middle;\n",
              "    }\n",
              "\n",
              "    .dataframe tbody tr th {\n",
              "        vertical-align: top;\n",
              "    }\n",
              "\n",
              "    .dataframe thead th {\n",
              "        text-align: right;\n",
              "    }\n",
              "</style>\n",
              "<table border=\"1\" class=\"dataframe\">\n",
              "  <thead>\n",
              "    <tr style=\"text-align: right;\">\n",
              "      <th></th>\n",
              "      <th>userId</th>\n",
              "      <th>movieId</th>\n",
              "      <th>rating</th>\n",
              "      <th>random</th>\n",
              "    </tr>\n",
              "  </thead>\n",
              "  <tbody>\n",
              "    <tr>\n",
              "      <th>0</th>\n",
              "      <td>42069.0</td>\n",
              "      <td>310131.0</td>\n",
              "      <td>0.8</td>\n",
              "      <td>0.117112</td>\n",
              "    </tr>\n",
              "    <tr>\n",
              "      <th>1</th>\n",
              "      <td>42069.0</td>\n",
              "      <td>16392.0</td>\n",
              "      <td>0.6</td>\n",
              "      <td>0.857393</td>\n",
              "    </tr>\n",
              "    <tr>\n",
              "      <th>2</th>\n",
              "      <td>42069.0</td>\n",
              "      <td>15371.0</td>\n",
              "      <td>1.0</td>\n",
              "      <td>0.796890</td>\n",
              "    </tr>\n",
              "    <tr>\n",
              "      <th>3</th>\n",
              "      <td>42069.0</td>\n",
              "      <td>146233.0</td>\n",
              "      <td>0.6</td>\n",
              "      <td>0.575762</td>\n",
              "    </tr>\n",
              "    <tr>\n",
              "      <th>4</th>\n",
              "      <td>42069.0</td>\n",
              "      <td>421.0</td>\n",
              "      <td>1.0</td>\n",
              "      <td>0.774184</td>\n",
              "    </tr>\n",
              "    <tr>\n",
              "      <th>5</th>\n",
              "      <td>42069.0</td>\n",
              "      <td>97367.0</td>\n",
              "      <td>1.0</td>\n",
              "      <td>0.076446</td>\n",
              "    </tr>\n",
              "    <tr>\n",
              "      <th>6</th>\n",
              "      <td>42069.0</td>\n",
              "      <td>489.0</td>\n",
              "      <td>0.8</td>\n",
              "      <td>0.192059</td>\n",
              "    </tr>\n",
              "    <tr>\n",
              "      <th>7</th>\n",
              "      <td>42069.0</td>\n",
              "      <td>278.0</td>\n",
              "      <td>0.8</td>\n",
              "      <td>0.917216</td>\n",
              "    </tr>\n",
              "    <tr>\n",
              "      <th>8</th>\n",
              "      <td>42069.0</td>\n",
              "      <td>9647.0</td>\n",
              "      <td>0.6</td>\n",
              "      <td>0.482191</td>\n",
              "    </tr>\n",
              "    <tr>\n",
              "      <th>9</th>\n",
              "      <td>42069.0</td>\n",
              "      <td>279690.0</td>\n",
              "      <td>0.6</td>\n",
              "      <td>0.071241</td>\n",
              "    </tr>\n",
              "    <tr>\n",
              "      <th>10</th>\n",
              "      <td>42069.0</td>\n",
              "      <td>55931.0</td>\n",
              "      <td>0.6</td>\n",
              "      <td>0.017518</td>\n",
              "    </tr>\n",
              "    <tr>\n",
              "      <th>11</th>\n",
              "      <td>42069.0</td>\n",
              "      <td>24128.0</td>\n",
              "      <td>0.8</td>\n",
              "      <td>0.333555</td>\n",
              "    </tr>\n",
              "    <tr>\n",
              "      <th>12</th>\n",
              "      <td>42069.0</td>\n",
              "      <td>84892.0</td>\n",
              "      <td>0.4</td>\n",
              "      <td>0.035561</td>\n",
              "    </tr>\n",
              "    <tr>\n",
              "      <th>13</th>\n",
              "      <td>42069.0</td>\n",
              "      <td>25750.0</td>\n",
              "      <td>0.2</td>\n",
              "      <td>0.225839</td>\n",
              "    </tr>\n",
              "    <tr>\n",
              "      <th>14</th>\n",
              "      <td>42069.0</td>\n",
              "      <td>149.0</td>\n",
              "      <td>0.8</td>\n",
              "      <td>0.018801</td>\n",
              "    </tr>\n",
              "    <tr>\n",
              "      <th>15</th>\n",
              "      <td>42069.0</td>\n",
              "      <td>2291.0</td>\n",
              "      <td>0.4</td>\n",
              "      <td>0.302059</td>\n",
              "    </tr>\n",
              "    <tr>\n",
              "      <th>16</th>\n",
              "      <td>42069.0</td>\n",
              "      <td>339403.0</td>\n",
              "      <td>0.6</td>\n",
              "      <td>0.131907</td>\n",
              "    </tr>\n",
              "    <tr>\n",
              "      <th>17</th>\n",
              "      <td>42069.0</td>\n",
              "      <td>861.0</td>\n",
              "      <td>0.6</td>\n",
              "      <td>0.499339</td>\n",
              "    </tr>\n",
              "    <tr>\n",
              "      <th>18</th>\n",
              "      <td>42069.0</td>\n",
              "      <td>9741.0</td>\n",
              "      <td>0.4</td>\n",
              "      <td>0.737388</td>\n",
              "    </tr>\n",
              "    <tr>\n",
              "      <th>19</th>\n",
              "      <td>42069.0</td>\n",
              "      <td>19908.0</td>\n",
              "      <td>0.2</td>\n",
              "      <td>0.253213</td>\n",
              "    </tr>\n",
              "    <tr>\n",
              "      <th>20</th>\n",
              "      <td>42069.0</td>\n",
              "      <td>153.0</td>\n",
              "      <td>0.8</td>\n",
              "      <td>0.923698</td>\n",
              "    </tr>\n",
              "  </tbody>\n",
              "</table>\n",
              "</div>\n",
              "      <button class=\"colab-df-convert\" onclick=\"convertToInteractive('df-06b5b508-00e3-42a7-8926-ed01953a9579')\"\n",
              "              title=\"Convert this dataframe to an interactive table.\"\n",
              "              style=\"display:none;\">\n",
              "        \n",
              "  <svg xmlns=\"http://www.w3.org/2000/svg\" height=\"24px\"viewBox=\"0 0 24 24\"\n",
              "       width=\"24px\">\n",
              "    <path d=\"M0 0h24v24H0V0z\" fill=\"none\"/>\n",
              "    <path d=\"M18.56 5.44l.94 2.06.94-2.06 2.06-.94-2.06-.94-.94-2.06-.94 2.06-2.06.94zm-11 1L8.5 8.5l.94-2.06 2.06-.94-2.06-.94L8.5 2.5l-.94 2.06-2.06.94zm10 10l.94 2.06.94-2.06 2.06-.94-2.06-.94-.94-2.06-.94 2.06-2.06.94z\"/><path d=\"M17.41 7.96l-1.37-1.37c-.4-.4-.92-.59-1.43-.59-.52 0-1.04.2-1.43.59L10.3 9.45l-7.72 7.72c-.78.78-.78 2.05 0 2.83L4 21.41c.39.39.9.59 1.41.59.51 0 1.02-.2 1.41-.59l7.78-7.78 2.81-2.81c.8-.78.8-2.07 0-2.86zM5.41 20L4 18.59l7.72-7.72 1.47 1.35L5.41 20z\"/>\n",
              "  </svg>\n",
              "      </button>\n",
              "      \n",
              "  <style>\n",
              "    .colab-df-container {\n",
              "      display:flex;\n",
              "      flex-wrap:wrap;\n",
              "      gap: 12px;\n",
              "    }\n",
              "\n",
              "    .colab-df-convert {\n",
              "      background-color: #E8F0FE;\n",
              "      border: none;\n",
              "      border-radius: 50%;\n",
              "      cursor: pointer;\n",
              "      display: none;\n",
              "      fill: #1967D2;\n",
              "      height: 32px;\n",
              "      padding: 0 0 0 0;\n",
              "      width: 32px;\n",
              "    }\n",
              "\n",
              "    .colab-df-convert:hover {\n",
              "      background-color: #E2EBFA;\n",
              "      box-shadow: 0px 1px 2px rgba(60, 64, 67, 0.3), 0px 1px 3px 1px rgba(60, 64, 67, 0.15);\n",
              "      fill: #174EA6;\n",
              "    }\n",
              "\n",
              "    [theme=dark] .colab-df-convert {\n",
              "      background-color: #3B4455;\n",
              "      fill: #D2E3FC;\n",
              "    }\n",
              "\n",
              "    [theme=dark] .colab-df-convert:hover {\n",
              "      background-color: #434B5C;\n",
              "      box-shadow: 0px 1px 3px 1px rgba(0, 0, 0, 0.15);\n",
              "      filter: drop-shadow(0px 1px 2px rgba(0, 0, 0, 0.3));\n",
              "      fill: #FFFFFF;\n",
              "    }\n",
              "  </style>\n",
              "\n",
              "      <script>\n",
              "        const buttonEl =\n",
              "          document.querySelector('#df-06b5b508-00e3-42a7-8926-ed01953a9579 button.colab-df-convert');\n",
              "        buttonEl.style.display =\n",
              "          google.colab.kernel.accessAllowed ? 'block' : 'none';\n",
              "\n",
              "        async function convertToInteractive(key) {\n",
              "          const element = document.querySelector('#df-06b5b508-00e3-42a7-8926-ed01953a9579');\n",
              "          const dataTable =\n",
              "            await google.colab.kernel.invokeFunction('convertToInteractive',\n",
              "                                                     [key], {});\n",
              "          if (!dataTable) return;\n",
              "\n",
              "          const docLinkHtml = 'Like what you see? Visit the ' +\n",
              "            '<a target=\"_blank\" href=https://colab.research.google.com/notebooks/data_table.ipynb>data table notebook</a>'\n",
              "            + ' to learn more about interactive tables.';\n",
              "          element.innerHTML = '';\n",
              "          dataTable['output_type'] = 'display_data';\n",
              "          await google.colab.output.renderOutput(dataTable, element);\n",
              "          const docLink = document.createElement('div');\n",
              "          docLink.innerHTML = docLinkHtml;\n",
              "          element.appendChild(docLink);\n",
              "        }\n",
              "      </script>\n",
              "    </div>\n",
              "  </div>\n",
              "  "
            ]
          },
          "metadata": {},
          "execution_count": 32
        }
      ]
    },
    {
      "cell_type": "markdown",
      "source": [
        "### Get Sample of Users"
      ],
      "metadata": {
        "id": "32OhduEEp01F"
      }
    },
    {
      "cell_type": "code",
      "source": [
        "all_users = ratings.userId.unique()\n",
        "s_users = np.random.choice(all_users, size=20000, replace=False)"
      ],
      "metadata": {
        "id": "igBUyMRFpvmm"
      },
      "execution_count": null,
      "outputs": []
    },
    {
      "cell_type": "code",
      "source": [
        "s_ratings = ratings[ratings.userId.isin(s_users)].copy()\n",
        "s_ratings = s_ratings.append(chris)"
      ],
      "metadata": {
        "id": "CbLU_FPzqY22"
      },
      "execution_count": null,
      "outputs": []
    },
    {
      "cell_type": "code",
      "source": [
        "ratings.head(10)"
      ],
      "metadata": {
        "colab": {
          "base_uri": "https://localhost:8080/",
          "height": 363
        },
        "id": "eQssBHKuLHHB",
        "outputId": "3624cf4c-d2af-4828-d76e-75ac348b2ebd"
      },
      "execution_count": null,
      "outputs": [
        {
          "output_type": "execute_result",
          "data": {
            "text/plain": [
              "   userId  movieId  rating    random\n",
              "0       1      110     0.2  0.620213\n",
              "1       1      147     0.9  0.881993\n",
              "2       1      858     1.0  0.909298\n",
              "3       1     1221     1.0  0.957572\n",
              "4       1     1246     1.0  0.204583\n",
              "5       1     1968     0.8  0.186593\n",
              "6       1     2762     0.9  0.494464\n",
              "7       1     2918     1.0  0.642935\n",
              "8       1     2959     0.8  0.739074\n",
              "9       1     4226     0.8  0.515519"
            ],
            "text/html": [
              "\n",
              "  <div id=\"df-782dee32-5519-43af-9085-fdc44a5981b0\">\n",
              "    <div class=\"colab-df-container\">\n",
              "      <div>\n",
              "<style scoped>\n",
              "    .dataframe tbody tr th:only-of-type {\n",
              "        vertical-align: middle;\n",
              "    }\n",
              "\n",
              "    .dataframe tbody tr th {\n",
              "        vertical-align: top;\n",
              "    }\n",
              "\n",
              "    .dataframe thead th {\n",
              "        text-align: right;\n",
              "    }\n",
              "</style>\n",
              "<table border=\"1\" class=\"dataframe\">\n",
              "  <thead>\n",
              "    <tr style=\"text-align: right;\">\n",
              "      <th></th>\n",
              "      <th>userId</th>\n",
              "      <th>movieId</th>\n",
              "      <th>rating</th>\n",
              "      <th>random</th>\n",
              "    </tr>\n",
              "  </thead>\n",
              "  <tbody>\n",
              "    <tr>\n",
              "      <th>0</th>\n",
              "      <td>1</td>\n",
              "      <td>110</td>\n",
              "      <td>0.2</td>\n",
              "      <td>0.620213</td>\n",
              "    </tr>\n",
              "    <tr>\n",
              "      <th>1</th>\n",
              "      <td>1</td>\n",
              "      <td>147</td>\n",
              "      <td>0.9</td>\n",
              "      <td>0.881993</td>\n",
              "    </tr>\n",
              "    <tr>\n",
              "      <th>2</th>\n",
              "      <td>1</td>\n",
              "      <td>858</td>\n",
              "      <td>1.0</td>\n",
              "      <td>0.909298</td>\n",
              "    </tr>\n",
              "    <tr>\n",
              "      <th>3</th>\n",
              "      <td>1</td>\n",
              "      <td>1221</td>\n",
              "      <td>1.0</td>\n",
              "      <td>0.957572</td>\n",
              "    </tr>\n",
              "    <tr>\n",
              "      <th>4</th>\n",
              "      <td>1</td>\n",
              "      <td>1246</td>\n",
              "      <td>1.0</td>\n",
              "      <td>0.204583</td>\n",
              "    </tr>\n",
              "    <tr>\n",
              "      <th>5</th>\n",
              "      <td>1</td>\n",
              "      <td>1968</td>\n",
              "      <td>0.8</td>\n",
              "      <td>0.186593</td>\n",
              "    </tr>\n",
              "    <tr>\n",
              "      <th>6</th>\n",
              "      <td>1</td>\n",
              "      <td>2762</td>\n",
              "      <td>0.9</td>\n",
              "      <td>0.494464</td>\n",
              "    </tr>\n",
              "    <tr>\n",
              "      <th>7</th>\n",
              "      <td>1</td>\n",
              "      <td>2918</td>\n",
              "      <td>1.0</td>\n",
              "      <td>0.642935</td>\n",
              "    </tr>\n",
              "    <tr>\n",
              "      <th>8</th>\n",
              "      <td>1</td>\n",
              "      <td>2959</td>\n",
              "      <td>0.8</td>\n",
              "      <td>0.739074</td>\n",
              "    </tr>\n",
              "    <tr>\n",
              "      <th>9</th>\n",
              "      <td>1</td>\n",
              "      <td>4226</td>\n",
              "      <td>0.8</td>\n",
              "      <td>0.515519</td>\n",
              "    </tr>\n",
              "  </tbody>\n",
              "</table>\n",
              "</div>\n",
              "      <button class=\"colab-df-convert\" onclick=\"convertToInteractive('df-782dee32-5519-43af-9085-fdc44a5981b0')\"\n",
              "              title=\"Convert this dataframe to an interactive table.\"\n",
              "              style=\"display:none;\">\n",
              "        \n",
              "  <svg xmlns=\"http://www.w3.org/2000/svg\" height=\"24px\"viewBox=\"0 0 24 24\"\n",
              "       width=\"24px\">\n",
              "    <path d=\"M0 0h24v24H0V0z\" fill=\"none\"/>\n",
              "    <path d=\"M18.56 5.44l.94 2.06.94-2.06 2.06-.94-2.06-.94-.94-2.06-.94 2.06-2.06.94zm-11 1L8.5 8.5l.94-2.06 2.06-.94-2.06-.94L8.5 2.5l-.94 2.06-2.06.94zm10 10l.94 2.06.94-2.06 2.06-.94-2.06-.94-.94-2.06-.94 2.06-2.06.94z\"/><path d=\"M17.41 7.96l-1.37-1.37c-.4-.4-.92-.59-1.43-.59-.52 0-1.04.2-1.43.59L10.3 9.45l-7.72 7.72c-.78.78-.78 2.05 0 2.83L4 21.41c.39.39.9.59 1.41.59.51 0 1.02-.2 1.41-.59l7.78-7.78 2.81-2.81c.8-.78.8-2.07 0-2.86zM5.41 20L4 18.59l7.72-7.72 1.47 1.35L5.41 20z\"/>\n",
              "  </svg>\n",
              "      </button>\n",
              "      \n",
              "  <style>\n",
              "    .colab-df-container {\n",
              "      display:flex;\n",
              "      flex-wrap:wrap;\n",
              "      gap: 12px;\n",
              "    }\n",
              "\n",
              "    .colab-df-convert {\n",
              "      background-color: #E8F0FE;\n",
              "      border: none;\n",
              "      border-radius: 50%;\n",
              "      cursor: pointer;\n",
              "      display: none;\n",
              "      fill: #1967D2;\n",
              "      height: 32px;\n",
              "      padding: 0 0 0 0;\n",
              "      width: 32px;\n",
              "    }\n",
              "\n",
              "    .colab-df-convert:hover {\n",
              "      background-color: #E2EBFA;\n",
              "      box-shadow: 0px 1px 2px rgba(60, 64, 67, 0.3), 0px 1px 3px 1px rgba(60, 64, 67, 0.15);\n",
              "      fill: #174EA6;\n",
              "    }\n",
              "\n",
              "    [theme=dark] .colab-df-convert {\n",
              "      background-color: #3B4455;\n",
              "      fill: #D2E3FC;\n",
              "    }\n",
              "\n",
              "    [theme=dark] .colab-df-convert:hover {\n",
              "      background-color: #434B5C;\n",
              "      box-shadow: 0px 1px 3px 1px rgba(0, 0, 0, 0.15);\n",
              "      filter: drop-shadow(0px 1px 2px rgba(0, 0, 0, 0.3));\n",
              "      fill: #FFFFFF;\n",
              "    }\n",
              "  </style>\n",
              "\n",
              "      <script>\n",
              "        const buttonEl =\n",
              "          document.querySelector('#df-782dee32-5519-43af-9085-fdc44a5981b0 button.colab-df-convert');\n",
              "        buttonEl.style.display =\n",
              "          google.colab.kernel.accessAllowed ? 'block' : 'none';\n",
              "\n",
              "        async function convertToInteractive(key) {\n",
              "          const element = document.querySelector('#df-782dee32-5519-43af-9085-fdc44a5981b0');\n",
              "          const dataTable =\n",
              "            await google.colab.kernel.invokeFunction('convertToInteractive',\n",
              "                                                     [key], {});\n",
              "          if (!dataTable) return;\n",
              "\n",
              "          const docLinkHtml = 'Like what you see? Visit the ' +\n",
              "            '<a target=\"_blank\" href=https://colab.research.google.com/notebooks/data_table.ipynb>data table notebook</a>'\n",
              "            + ' to learn more about interactive tables.';\n",
              "          element.innerHTML = '';\n",
              "          dataTable['output_type'] = 'display_data';\n",
              "          await google.colab.output.renderOutput(dataTable, element);\n",
              "          const docLink = document.createElement('div');\n",
              "          docLink.innerHTML = docLinkHtml;\n",
              "          element.appendChild(docLink);\n",
              "        }\n",
              "      </script>\n",
              "    </div>\n",
              "  </div>\n",
              "  "
            ]
          },
          "metadata": {},
          "execution_count": 39
        }
      ]
    },
    {
      "cell_type": "code",
      "source": [
        "ratings.shape"
      ],
      "metadata": {
        "colab": {
          "base_uri": "https://localhost:8080/"
        },
        "id": "MYq3kKg3LIoP",
        "outputId": "83514347-cc0e-4dcd-d7c0-ad6c9a270fe2"
      },
      "execution_count": 123,
      "outputs": [
        {
          "output_type": "execute_result",
          "data": {
            "text/plain": [
              "(1903042, 4)"
            ]
          },
          "metadata": {},
          "execution_count": 123
        }
      ]
    },
    {
      "cell_type": "code",
      "source": [
        "s_ratings.shape"
      ],
      "metadata": {
        "colab": {
          "base_uri": "https://localhost:8080/"
        },
        "id": "Pwe_GHtQhDnZ",
        "outputId": "d4434783-1697-40e3-a566-c7b18fde56e5"
      },
      "execution_count": 124,
      "outputs": [
        {
          "output_type": "execute_result",
          "data": {
            "text/plain": [
              "(1903042, 4)"
            ]
          },
          "metadata": {},
          "execution_count": 124
        }
      ]
    },
    {
      "cell_type": "code",
      "source": [
        "s_train = s_ratings[s_ratings['random']<.7]\n",
        "s_valid = s_ratings[(s_ratings['random'] >= .7) & (s_ratings['random'] < .85)]\n",
        "s_test = s_ratings[s_ratings['random']>=.85]"
      ],
      "metadata": {
        "id": "B0A5NnfGKBpg"
      },
      "execution_count": null,
      "outputs": []
    },
    {
      "cell_type": "code",
      "source": [
        "s_train.shape"
      ],
      "metadata": {
        "colab": {
          "base_uri": "https://localhost:8080/"
        },
        "id": "J_S_FChkK3TC",
        "outputId": "4baef337-cab7-4de8-ba03-f9035dbe35bf"
      },
      "execution_count": null,
      "outputs": [
        {
          "output_type": "execute_result",
          "data": {
            "text/plain": [
              "(1330775, 4)"
            ]
          },
          "metadata": {},
          "execution_count": 42
        }
      ]
    },
    {
      "cell_type": "code",
      "source": [
        "s_test.shape"
      ],
      "metadata": {
        "colab": {
          "base_uri": "https://localhost:8080/"
        },
        "id": "4KnJY3raLNqW",
        "outputId": "83567486-ca57-4920-d2a0-45d8d966bbae"
      },
      "execution_count": null,
      "outputs": [
        {
          "output_type": "execute_result",
          "data": {
            "text/plain": [
              "(287047, 4)"
            ]
          },
          "metadata": {},
          "execution_count": 43
        }
      ]
    },
    {
      "cell_type": "code",
      "source": [
        "s_valid.shape"
      ],
      "metadata": {
        "colab": {
          "base_uri": "https://localhost:8080/"
        },
        "id": "s2V18GJGTt2D",
        "outputId": "77d2781c-2285-457e-80be-759ba9744d70"
      },
      "execution_count": null,
      "outputs": [
        {
          "output_type": "execute_result",
          "data": {
            "text/plain": [
              "(285220, 4)"
            ]
          },
          "metadata": {},
          "execution_count": 44
        }
      ]
    },
    {
      "cell_type": "markdown",
      "source": [
        "### Create Movie Features "
      ],
      "metadata": {
        "id": "lBOKk-yBkp1u"
      }
    },
    {
      "cell_type": "code",
      "source": [
        "movie_feat = pd.read_csv('movies_metadata.csv')\n",
        "movie_feat = movie_feat.drop([19730,29503,35587])\n",
        "movie_feat['movieId'] = movie_feat['id'].astype(str).astype(int)\n",
        "movie_feat = movie_feat[['movieId', 'title','genres', 'vote_average', 'vote_count']]\n"
      ],
      "metadata": {
        "id": "IMb-6GiIkpjS"
      },
      "execution_count": null,
      "outputs": []
    },
    {
      "cell_type": "code",
      "source": [
        "train_movie = s_train.movieId.unique()\n",
        "movie_feat_train = movie_feat[movie_feat.movieId.isin(train_movie)]\n",
        "test_movie = np.sort(s_test.movieId.unique())\n",
        "movie_feat_test = movie_feat[movie_feat.movieId.isin(test_movie)]\n",
        "len(train_movie)"
      ],
      "metadata": {
        "colab": {
          "base_uri": "https://localhost:8080/"
        },
        "id": "yfOpRrcymy4Q",
        "outputId": "b70aea0c-d2cd-4d47-9ca2-e2703a2c37a0"
      },
      "execution_count": null,
      "outputs": [
        {
          "output_type": "execute_result",
          "data": {
            "text/plain": [
              "20323"
            ]
          },
          "metadata": {},
          "execution_count": 91
        }
      ]
    },
    {
      "cell_type": "markdown",
      "source": [
        "### Fit Factorization Machine"
      ],
      "metadata": {
        "id": "wtzQpLwek4YV"
      }
    },
    {
      "cell_type": "code",
      "source": [
        "model = RankFM(factors=6, loss='warp', max_samples=40, learning_schedule='invscaling', learning_rate= .02)\n",
        "model.fit(s_train[[\"userId\",\"movieId\"]], sample_weight= s_train[\"rating\"], \n",
        "          epochs=100, verbose=True)"
      ],
      "metadata": {
        "colab": {
          "base_uri": "https://localhost:8080/"
        },
        "id": "GngnFMgsLb9i",
        "outputId": "b723fbae-206e-47e9-a726-1d711c8f8a7d"
      },
      "execution_count": 116,
      "outputs": [
        {
          "output_type": "stream",
          "name": "stdout",
          "text": [
            "\n",
            "training epoch: 0\n",
            "log likelihood: -654682.4375\n",
            "\n",
            "training epoch: 1\n",
            "log likelihood: -636492.375\n",
            "\n",
            "training epoch: 2\n",
            "log likelihood: -639471.375\n",
            "\n",
            "training epoch: 3\n",
            "log likelihood: -641625.1875\n",
            "\n",
            "training epoch: 4\n",
            "log likelihood: -642573.1875\n",
            "\n",
            "training epoch: 5\n",
            "log likelihood: -643519.3125\n",
            "\n",
            "training epoch: 6\n",
            "log likelihood: -644098.375\n",
            "\n",
            "training epoch: 7\n",
            "log likelihood: -644754.75\n",
            "\n",
            "training epoch: 8\n",
            "log likelihood: -644959.75\n",
            "\n",
            "training epoch: 9\n",
            "log likelihood: -644384.0625\n",
            "\n",
            "training epoch: 10\n",
            "log likelihood: -642744.125\n",
            "\n",
            "training epoch: 11\n",
            "log likelihood: -640669.125\n",
            "\n",
            "training epoch: 12\n",
            "log likelihood: -637692.6875\n",
            "\n",
            "training epoch: 13\n",
            "log likelihood: -635160.3125\n",
            "\n",
            "training epoch: 14\n",
            "log likelihood: -633967.5625\n",
            "\n",
            "training epoch: 15\n",
            "log likelihood: -633841.5625\n",
            "\n",
            "training epoch: 16\n",
            "log likelihood: -632286.8125\n",
            "\n",
            "training epoch: 17\n",
            "log likelihood: -632480.625\n",
            "\n",
            "training epoch: 18\n",
            "log likelihood: -631743.4375\n",
            "\n",
            "training epoch: 19\n",
            "log likelihood: -631014.875\n",
            "\n",
            "training epoch: 20\n",
            "log likelihood: -630270.25\n",
            "\n",
            "training epoch: 21\n",
            "log likelihood: -629111.8125\n",
            "\n",
            "training epoch: 22\n",
            "log likelihood: -628446.9375\n",
            "\n",
            "training epoch: 23\n",
            "log likelihood: -627130.0\n",
            "\n",
            "training epoch: 24\n",
            "log likelihood: -625646.25\n",
            "\n",
            "training epoch: 25\n",
            "log likelihood: -624932.75\n",
            "\n",
            "training epoch: 26\n",
            "log likelihood: -623754.75\n",
            "\n",
            "training epoch: 27\n",
            "log likelihood: -623000.0625\n",
            "\n",
            "training epoch: 28\n",
            "log likelihood: -622046.125\n",
            "\n",
            "training epoch: 29\n",
            "log likelihood: -621372.25\n",
            "\n",
            "training epoch: 30\n",
            "log likelihood: -620072.875\n",
            "\n",
            "training epoch: 31\n",
            "log likelihood: -619105.8125\n",
            "\n",
            "training epoch: 32\n",
            "log likelihood: -618836.9375\n",
            "\n",
            "training epoch: 33\n",
            "log likelihood: -618466.625\n",
            "\n",
            "training epoch: 34\n",
            "log likelihood: -618110.25\n",
            "\n",
            "training epoch: 35\n",
            "log likelihood: -617342.125\n",
            "\n",
            "training epoch: 36\n",
            "log likelihood: -617160.3125\n",
            "\n",
            "training epoch: 37\n",
            "log likelihood: -616190.0625\n",
            "\n",
            "training epoch: 38\n",
            "log likelihood: -616336.6875\n",
            "\n",
            "training epoch: 39\n",
            "log likelihood: -615818.1875\n",
            "\n",
            "training epoch: 40\n",
            "log likelihood: -616568.125\n",
            "\n",
            "training epoch: 41\n",
            "log likelihood: -616027.0\n",
            "\n",
            "training epoch: 42\n",
            "log likelihood: -614935.1875\n",
            "\n",
            "training epoch: 43\n",
            "log likelihood: -615545.8125\n",
            "\n",
            "training epoch: 44\n",
            "log likelihood: -615104.25\n",
            "\n",
            "training epoch: 45\n",
            "log likelihood: -614781.75\n",
            "\n",
            "training epoch: 46\n",
            "log likelihood: -614687.75\n",
            "\n",
            "training epoch: 47\n",
            "log likelihood: -614559.8125\n",
            "\n",
            "training epoch: 48\n",
            "log likelihood: -614517.3125\n",
            "\n",
            "training epoch: 49\n",
            "log likelihood: -614118.9375\n",
            "\n",
            "training epoch: 50\n",
            "log likelihood: -613955.3125\n",
            "\n",
            "training epoch: 51\n",
            "log likelihood: -614403.3125\n",
            "\n",
            "training epoch: 52\n",
            "log likelihood: -614115.625\n",
            "\n",
            "training epoch: 53\n",
            "log likelihood: -613332.1875\n",
            "\n",
            "training epoch: 54\n",
            "log likelihood: -613231.1875\n",
            "\n",
            "training epoch: 55\n",
            "log likelihood: -612759.6875\n",
            "\n",
            "training epoch: 56\n",
            "log likelihood: -612880.25\n",
            "\n",
            "training epoch: 57\n",
            "log likelihood: -613169.875\n",
            "\n",
            "training epoch: 58\n",
            "log likelihood: -613210.8125\n",
            "\n",
            "training epoch: 59\n",
            "log likelihood: -612415.1875\n",
            "\n",
            "training epoch: 60\n",
            "log likelihood: -612915.5\n",
            "\n",
            "training epoch: 61\n",
            "log likelihood: -612442.4375\n",
            "\n",
            "training epoch: 62\n",
            "log likelihood: -612153.1875\n",
            "\n",
            "training epoch: 63\n",
            "log likelihood: -612294.5\n",
            "\n",
            "training epoch: 64\n",
            "log likelihood: -611895.0625\n",
            "\n",
            "training epoch: 65\n",
            "log likelihood: -611445.625\n",
            "\n",
            "training epoch: 66\n",
            "log likelihood: -611613.9375\n",
            "\n",
            "training epoch: 67\n",
            "log likelihood: -611673.5\n",
            "\n",
            "training epoch: 68\n",
            "log likelihood: -611739.5625\n",
            "\n",
            "training epoch: 69\n",
            "log likelihood: -611542.1875\n",
            "\n",
            "training epoch: 70\n",
            "log likelihood: -611183.8125\n",
            "\n",
            "training epoch: 71\n",
            "log likelihood: -611654.1875\n",
            "\n",
            "training epoch: 72\n",
            "log likelihood: -611059.5625\n",
            "\n",
            "training epoch: 73\n",
            "log likelihood: -611054.125\n",
            "\n",
            "training epoch: 74\n",
            "log likelihood: -611286.375\n",
            "\n",
            "training epoch: 75\n",
            "log likelihood: -611130.9375\n",
            "\n",
            "training epoch: 76\n",
            "log likelihood: -611378.0\n",
            "\n",
            "training epoch: 77\n",
            "log likelihood: -610676.9375\n",
            "\n",
            "training epoch: 78\n",
            "log likelihood: -610891.4375\n",
            "\n",
            "training epoch: 79\n",
            "log likelihood: -610745.625\n",
            "\n",
            "training epoch: 80\n",
            "log likelihood: -610232.5\n",
            "\n",
            "training epoch: 81\n",
            "log likelihood: -610753.25\n",
            "\n",
            "training epoch: 82\n",
            "log likelihood: -610841.5625\n",
            "\n",
            "training epoch: 83\n",
            "log likelihood: -611221.25\n",
            "\n",
            "training epoch: 84\n",
            "log likelihood: -610654.8125\n",
            "\n",
            "training epoch: 85\n",
            "log likelihood: -610986.5625\n",
            "\n",
            "training epoch: 86\n",
            "log likelihood: -611258.0625\n",
            "\n",
            "training epoch: 87\n",
            "log likelihood: -609798.8125\n",
            "\n",
            "training epoch: 88\n",
            "log likelihood: -610191.375\n",
            "\n",
            "training epoch: 89\n",
            "log likelihood: -610615.0625\n",
            "\n",
            "training epoch: 90\n",
            "log likelihood: -610509.125\n",
            "\n",
            "training epoch: 91\n",
            "log likelihood: -610309.875\n",
            "\n",
            "training epoch: 92\n",
            "log likelihood: -610135.0625\n",
            "\n",
            "training epoch: 93\n",
            "log likelihood: -610005.6875\n",
            "\n",
            "training epoch: 94\n",
            "log likelihood: -610967.6875\n",
            "\n",
            "training epoch: 95\n",
            "log likelihood: -610105.0\n",
            "\n",
            "training epoch: 96\n",
            "log likelihood: -610223.75\n",
            "\n",
            "training epoch: 97\n",
            "log likelihood: -610631.125\n",
            "\n",
            "training epoch: 98\n",
            "log likelihood: -609965.0\n",
            "\n",
            "training epoch: 99\n",
            "log likelihood: -611158.5625\n"
          ]
        }
      ]
    },
    {
      "cell_type": "markdown",
      "source": [
        "### Get Training Metrics"
      ],
      "metadata": {
        "id": "ibK6_OsyCOAf"
      }
    },
    {
      "cell_type": "code",
      "source": [
        "from rankfm.evaluation import hit_rate, precision, recall\n",
        "\n",
        "model_hrt = hit_rate(model, s_train[['userId','movieId']], k=10)\n",
        "model_pre = precision(model, s_train[['userId','movieId']], k=10)\n",
        "model_rec = recall(model, s_train[['userId','movieId']], k=10)"
      ],
      "metadata": {
        "id": "_vJeoPGyzcqt"
      },
      "execution_count": 117,
      "outputs": []
    },
    {
      "cell_type": "code",
      "source": [
        "model_hrt,model_pre,model_rec"
      ],
      "metadata": {
        "colab": {
          "base_uri": "https://localhost:8080/"
        },
        "id": "uxrEPgRd0d34",
        "outputId": "6705a9e2-d271-465c-9eac-972cf675539b"
      },
      "execution_count": 118,
      "outputs": [
        {
          "output_type": "execute_result",
          "data": {
            "text/plain": [
              "(0.6728858857344562, 0.2773334678029348, 0.08050620539409406)"
            ]
          },
          "metadata": {},
          "execution_count": 118
        }
      ]
    },
    {
      "cell_type": "markdown",
      "source": [
        "### Get Validation Metrics"
      ],
      "metadata": {
        "id": "JdtikojcCRND"
      }
    },
    {
      "cell_type": "code",
      "source": [
        "model_hrt = hit_rate(model, s_valid[['userId','movieId']], k=10)\n",
        "model_pre = precision(model, s_valid[['userId','movieId']], k=10)\n",
        "model_rec = recall(model, s_valid[['userId','movieId']], k=10)"
      ],
      "metadata": {
        "id": "KwsqAZvZM1NT"
      },
      "execution_count": 119,
      "outputs": []
    },
    {
      "cell_type": "code",
      "source": [
        "model_hrt,model_pre,model_rec"
      ],
      "metadata": {
        "colab": {
          "base_uri": "https://localhost:8080/"
        },
        "id": "1MNE0naZdU0V",
        "outputId": "d7224559-4fe0-4926-c685-710d9142ba14"
      },
      "execution_count": 120,
      "outputs": [
        {
          "output_type": "execute_result",
          "data": {
            "text/plain": [
              "(0.4076168302012307, 0.06280281612062753, 0.07534429237551644)"
            ]
          },
          "metadata": {},
          "execution_count": 120
        }
      ]
    },
    {
      "cell_type": "markdown",
      "source": [
        "### Recommend Movies To My Cinephile Roommate "
      ],
      "metadata": {
        "id": "d-EQKFykCXR3"
      }
    },
    {
      "cell_type": "code",
      "source": [
        "rec = model.recommend(users = [42069], n_items = 10)\n",
        "chris_rec = list(rec.iloc[0,])\n",
        "movie_feat.title[movie_feat['movieId'].isin(chris_rec)]"
      ],
      "metadata": {
        "colab": {
          "base_uri": "https://localhost:8080/"
        },
        "id": "CypZvHoHga3P",
        "outputId": "5c4c3629-6b47-410e-fc05-b0d6479095ad"
      },
      "execution_count": 121,
      "outputs": [
        {
          "output_type": "execute_result",
          "data": {
            "text/plain": [
              "286                     Once Were Warriors\n",
              "302                      Three Colors: Red\n",
              "938                           The 39 Steps\n",
              "3382                               Solaris\n",
              "4020              The Million Dollar Hotel\n",
              "5004                       Monsoon Wedding\n",
              "5325                       Men in Black II\n",
              "6388    Terminator 3: Rise of the Machines\n",
              "Name: title, dtype: object"
            ]
          },
          "metadata": {},
          "execution_count": 121
        }
      ]
    },
    {
      "cell_type": "markdown",
      "source": [
        "### Get Testing Set Metrics "
      ],
      "metadata": {
        "id": "mESh2vTbCfPw"
      }
    },
    {
      "cell_type": "code",
      "source": [
        "model_hrt = hit_rate(model, s_test[['userId','movieId']], k=10)\n",
        "model_pre = precision(model, s_test[['userId','movieId']], k=10)\n",
        "model_rec = recall(model, s_test[['userId','movieId']], k=10)\n",
        "\n",
        "model_hrt, model_pre, model_rec"
      ],
      "metadata": {
        "colab": {
          "base_uri": "https://localhost:8080/"
        },
        "id": "W4VN2rAiqou2",
        "outputId": "2af85951-3f5f-45b7-a37a-b3ca3e980eb6"
      },
      "execution_count": 122,
      "outputs": [
        {
          "output_type": "execute_result",
          "data": {
            "text/plain": [
              "(0.40890395731436197, 0.062311027123165844, 0.07464185489482321)"
            ]
          },
          "metadata": {},
          "execution_count": 122
        }
      ]
    }
  ]
}